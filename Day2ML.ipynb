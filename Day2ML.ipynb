{
  "nbformat": 4,
  "nbformat_minor": 0,
  "metadata": {
    "colab": {
      "name": "Day2ML.ipynb",
      "provenance": [],
      "authorship_tag": "ABX9TyPlc32JyXHkye0WX/b9W9jH",
      "include_colab_link": true
    },
    "kernelspec": {
      "name": "python3",
      "display_name": "Python 3"
    },
    "language_info": {
      "name": "python"
    },
    "accelerator": "GPU",
    "gpuClass": "standard"
  },
  "cells": [
    {
      "cell_type": "markdown",
      "metadata": {
        "id": "view-in-github",
        "colab_type": "text"
      },
      "source": [
        "<a href=\"https://colab.research.google.com/github/lkshh9/ML-Internship-2022/blob/main/Day2ML.ipynb\" target=\"_parent\"><img src=\"https://colab.research.google.com/assets/colab-badge.svg\" alt=\"Open In Colab\"/></a>"
      ]
    },
    {
      "cell_type": "code",
      "execution_count": null,
      "metadata": {
        "colab": {
          "base_uri": "https://localhost:8080/"
        },
        "id": "D0TIDowMC9Fp",
        "outputId": "2cd61f1a-1ca5-40fc-c1b1-f33629085b75"
      },
      "outputs": [
        {
          "output_type": "stream",
          "name": "stdout",
          "text": [
            "[[ 1  2  3  4]\n",
            " [ 4  6  8  3]\n",
            " [ 8  3 20 19]\n",
            " [11  2 22 21]]\n",
            "\n",
            "Accessing Elements\n",
            "[4 6 8 3]\n",
            "8\n"
          ]
        }
      ],
      "source": [
        "import numpy as np\n",
        "a=np.array([[1,2,3,4],[4,6,8,3],[8,3,20,19],[11,2,22,21]])\n",
        "m=np.reshape(a,(4,4))\n",
        "print(m)\n",
        "print(\"\\nAccessing Elements\")\n",
        "print(a[1])\n",
        "print(a[2][0])"
      ]
    },
    {
      "cell_type": "code",
      "source": [
        "def solution(x):\n",
        "    string = str(x)\n",
        "    \n",
        "    if string[0] == '-':\n",
        "        return int('-'+string[:0:-1])\n",
        "    else:\n",
        "        return int(string[::-1])\n",
        "    \n",
        "print(solution(-231))\n",
        "print(solution(345))"
      ],
      "metadata": {
        "colab": {
          "base_uri": "https://localhost:8080/"
        },
        "id": "BEvMoGkLELEK",
        "outputId": "f9eead09-b1c8-4091-f460-993d879a2617"
      },
      "execution_count": null,
      "outputs": [
        {
          "output_type": "stream",
          "name": "stdout",
          "text": [
            "-132\n",
            "543\n"
          ]
        }
      ]
    },
    {
      "cell_type": "code",
      "source": [
        "# For a given sentence, return the average word length. \n",
        "# Note: Remember to remove punctuation first.\n",
        "\n",
        "sentence1 = \"Hi everyone, my name is lokesh...I am originally from india.\"\n",
        "sentence2 = \"I need to work very hard to learn more about algorithms in Python!\"\n",
        "\n",
        "def solution(sentence):\n",
        "    for p in \"!?',;.\":\n",
        "        sentence = sentence.replace(p, '')\n",
        "    words = sentence.split()\n",
        "    return round(sum(len(word) for word in words)/len(words),2)\n",
        "    \n",
        "print(solution(sentence1))\n",
        "print(solution(sentence2))"
      ],
      "metadata": {
        "colab": {
          "base_uri": "https://localhost:8080/"
        },
        "id": "wJTXo5wjG9MH",
        "outputId": "ab164a94-7da6-4b6e-d094-b7b1d86554f8"
      },
      "execution_count": null,
      "outputs": [
        {
          "output_type": "stream",
          "name": "stdout",
          "text": [
            "4.6\n",
            "4.08\n"
          ]
        }
      ]
    },
    {
      "cell_type": "code",
      "source": [
        "# Given two non-negative integers num1 and num2 represented as string, return the sum of num1 and num2.\n",
        "# You must not use any built-in BigInteger library or convert the inputs to integer directly.\n",
        "\n",
        "#Notes:\n",
        "#Both num1 and num2 contains only digits 0-9.\n",
        "#Both num1 and num2 does not contain any leading zero.\n",
        "\n",
        "num1 = '364'\n",
        "num2 = '1836'\n",
        "\n",
        "# Approach 1: \n",
        "def solution(num1,num2):\n",
        "    eval(num1) + eval(num2)\n",
        "    return str(eval(num1) + eval(num2))\n",
        "            \n",
        "print(solution(num1,num2))\n",
        "\n",
        "#Approach2 \n",
        "#Given a string of length one, the ord() function returns an integer representing the Unicode code point of the character \n",
        "#when the argument is a unicode object, or the value of the byte when the argument is an 8-bit string.\n",
        "\n",
        "def solution(num1, num2):\n",
        "    n1, n2 = 0, 0\n",
        "    m1, m2 = 10**(len(num1)-1), 10**(len(num2)-1)\n",
        "\n",
        "    for i in num1:\n",
        "        n1 += (ord(i) - ord(\"0\")) * m1 \n",
        "        m1 = m1//10        \n",
        "\n",
        "    for i in num2:\n",
        "        n2 += (ord(i) - ord(\"0\")) * m2\n",
        "        m2 = m2//10\n",
        "\n",
        "    return str(n1 + n2)\n",
        "print(solution(num1, num2))"
      ],
      "metadata": {
        "colab": {
          "base_uri": "https://localhost:8080/"
        },
        "id": "OQES1zirHvmf",
        "outputId": "8fa01ead-9bf1-496c-ca99-352f6d499c1c"
      },
      "execution_count": null,
      "outputs": [
        {
          "output_type": "stream",
          "name": "stdout",
          "text": [
            "2200\n",
            "2200\n"
          ]
        }
      ]
    },
    {
      "cell_type": "code",
      "source": [
        "print(type(a))\n",
        "print(type(b))\n",
        "print(type(c))\n",
        "print(type(d))\n",
        "print(type(e))\n",
        "print(type(f))"
      ],
      "metadata": {
        "colab": {
          "base_uri": "https://localhost:8080/"
        },
        "id": "rky8DtNXNN1G",
        "outputId": "26f2e5b7-cafc-4e98-8983-77f672a65aa7"
      },
      "execution_count": null,
      "outputs": [
        {
          "output_type": "stream",
          "name": "stdout",
          "text": [
            "<class 'int'>\n",
            "<class 'float'>\n",
            "<class 'str'>\n",
            "<class 'list'>\n",
            "<class 'tuple'>\n",
            "<class 'dict'>\n"
          ]
        }
      ]
    },
    {
      "cell_type": "code",
      "source": [
        "# Python3 program to add two numbers\n",
        "\n",
        "n1 = input(\"First number: \")\n",
        "n2 = input(\"\\nSecond number: \")\n",
        "\n",
        "# Adding two numbers\n",
        "# User might also enter float numbers\n",
        "sum = float(n1) + float(n2)\n",
        "\n",
        "# Display the sum\n",
        "# will print value in float\n",
        "#print(sum,'is sum of',number1 ,number2 )\n",
        "print('sum of ',n1, 'and',n2,'is',sum)\n"
      ],
      "metadata": {
        "colab": {
          "base_uri": "https://localhost:8080/"
        },
        "id": "TGM-fc_FPJWW",
        "outputId": "9a38b1b1-226b-4af0-b944-61f955ed1cc7"
      },
      "execution_count": null,
      "outputs": [
        {
          "output_type": "stream",
          "name": "stdout",
          "text": [
            "First number: 53.6\n",
            "\n",
            "Second number: 89.4\n",
            "sum of  53.6 and 89.4 is 143.0\n"
          ]
        }
      ]
    },
    {
      "cell_type": "code",
      "source": [
        "a=20\n",
        "b=5.5\n",
        "c='lokesh'\n",
        "d=[20,60,5,15,20]\n",
        "e=(3,5,7,9,10)\n",
        "f={'name':'lokesh','age':20,'email id':\"karmalkshh49@gmail.com\"}\n",
        "\n",
        "d[2]=d[2]*2\n",
        "\n",
        "print(e)\n",
        "d.append(30)\n",
        "print(d)\n",
        "d.insert(1,100)\n",
        "print(d)\n",
        "\n",
        "print(len(c))\n",
        "print(len(d))\n",
        "print(len(e))\n",
        "print(len(f))\n",
        "print(f.keys())\n",
        "print(f.values())"
      ],
      "metadata": {
        "colab": {
          "base_uri": "https://localhost:8080/"
        },
        "id": "jzQvI0LbJ16V",
        "outputId": "ccb73969-bfc8-4d56-c88c-270ecaa1abf7"
      },
      "execution_count": null,
      "outputs": [
        {
          "output_type": "stream",
          "name": "stdout",
          "text": [
            "(3, 5, 7, 9, 10)\n",
            "[20, 60, 10, 15, 20, 30]\n",
            "[20, 100, 60, 10, 15, 20, 30]\n",
            "6\n",
            "7\n",
            "5\n",
            "3\n",
            "dict_keys(['name', 'age', 'email id'])\n",
            "dict_values(['lokesh', 20, 'karmalkshh49@gmail.com'])\n"
          ]
        }
      ]
    },
    {
      "cell_type": "code",
      "source": [
        "a = int(input(\"first number a: \"))\n",
        "b = int(input(\"second number b: \"))\n",
        "temp=a\n",
        "a=b\n",
        "b=temp\n",
        "print(\"After swapping\")\n",
        "print(\"value of a is : \", a)\n",
        "print(\"value of b is : \", b)"
      ],
      "metadata": {
        "colab": {
          "base_uri": "https://localhost:8080/"
        },
        "id": "mepEWgq5Yfjt",
        "outputId": "6b9c40cf-f469-4efe-d916-8c4e3321b48b"
      },
      "execution_count": null,
      "outputs": [
        {
          "output_type": "stream",
          "name": "stdout",
          "text": [
            "first number a: 84\n",
            "second number b: 32\n",
            "After swapping\n",
            "value of a is :  32\n",
            "value of b is :  84\n"
          ]
        }
      ]
    },
    {
      "cell_type": "code",
      "source": [
        "z=[2,9,10,20,3,1]\n",
        "z.sort(reverse=True)\n",
        "print(z)"
      ],
      "metadata": {
        "colab": {
          "base_uri": "https://localhost:8080/"
        },
        "id": "vuYVT_j5ZYPd",
        "outputId": "6faa09f5-ece1-4ab7-d275-6d118c645bf6"
      },
      "execution_count": null,
      "outputs": [
        {
          "output_type": "stream",
          "name": "stdout",
          "text": [
            "[20, 10, 9, 3, 2, 1]\n"
          ]
        }
      ]
    },
    {
      "cell_type": "code",
      "source": [
        "# t(function) input: (_prompt: Any = ...) -> str\n"
      ],
      "metadata": {
        "id": "zIUpSwiAstPI"
      },
      "execution_count": null,
      "outputs": []
    },
    {
      "cell_type": "code",
      "source": [
        "d=[1,5,2,9,8]\n",
        "d[1:4]\n"
      ],
      "metadata": {
        "colab": {
          "base_uri": "https://localhost:8080/"
        },
        "id": "yVJI3SRDuOoX",
        "outputId": "a8a6f509-93bf-4f9a-eb4c-c4e2d6f9ddd3"
      },
      "execution_count": null,
      "outputs": [
        {
          "output_type": "execute_result",
          "data": {
            "text/plain": [
              "[5, 2, 9]"
            ]
          },
          "metadata": {},
          "execution_count": 7
        }
      ]
    },
    {
      "cell_type": "code",
      "source": [
        "# Python program to demonstrate\n",
        "# slice() operator\n",
        "\n",
        "# List slicing\n",
        "L = [1, 2, 3, 4, 5]\n",
        "s1 = slice(3)\n",
        "s2 = slice(1, 5, 2)\n",
        "print(\"List slicing\")\n",
        "print(L[s1])\n",
        "print(L[s2])\n",
        "\n"
      ],
      "metadata": {
        "colab": {
          "base_uri": "https://localhost:8080/"
        },
        "id": "4TYuPa0ju2y4",
        "outputId": "4a2588d4-440f-412b-e15f-b5c7f57a22d3"
      },
      "execution_count": null,
      "outputs": [
        {
          "output_type": "stream",
          "name": "stdout",
          "text": [
            "List slicing\n",
            "[1, 2, 3]\n",
            "[2, 4]\n"
          ]
        }
      ]
    },
    {
      "cell_type": "code",
      "source": [
        "import sys as s\n",
        "a=1\n",
        "b=float(1)\n",
        "print(s.getsizeof(a))\n",
        "print(s.getsizeof(b))"
      ],
      "metadata": {
        "colab": {
          "base_uri": "https://localhost:8080/"
        },
        "id": "uGlnnXiZ2vvF",
        "outputId": "b0149acc-a0eb-4a56-ba6c-c37e7bab1bb6"
      },
      "execution_count": null,
      "outputs": [
        {
          "output_type": "stream",
          "name": "stdout",
          "text": [
            "28\n",
            "24\n"
          ]
        }
      ]
    },
    {
      "cell_type": "code",
      "source": [
        "import numpy as np\n",
        "from matplotlib import pyplot as plt\n",
        "\n",
        "ys = 200 + np.random.randn(100)\n",
        "x = [x for x in range(len(ys))]\n",
        "\n",
        "plt.plot(x, ys, '-')\n",
        "plt.fill_between(x, ys, 195, where=(ys > 195), facecolor='g', alpha=0.6)\n",
        "\n",
        "plt.title(\"Sample Visualization\")\n",
        "plt.show()"
      ],
      "metadata": {
        "colab": {
          "base_uri": "https://localhost:8080/",
          "height": 281
        },
        "id": "Etxll-iU64d1",
        "outputId": "6acf0783-7b2a-4acc-d8e9-820e2c915ebb"
      },
      "execution_count": null,
      "outputs": [
        {
          "output_type": "display_data",
          "data": {
            "text/plain": [
              "<Figure size 432x288 with 1 Axes>"
            ],
            "image/png": "[encoded data removed]"
          },
          "metadata": {
            "needs_background": "light"
          }
        }
      ]
    },
    {
      "cell_type": "code",
      "source": [
        "f['name']\n",
        "f['age']\n",
        "f['email']\n",
        "print(f)"
      ],
      "metadata": {
        "colab": {
          "base_uri": "https://localhost:8080/",
          "height": 217
        },
        "id": "Lu-51X3g7eIF",
        "outputId": "e507375f-6c89-4690-cd75-4930ea356c22"
      },
      "execution_count": null,
      "outputs": [
        {
          "output_type": "error",
          "ename": "NameError",
          "evalue": "ignored",
          "traceback": [
            "\u001b[0;31m---------------------------------------------------------------------------\u001b[0m",
            "\u001b[0;31mNameError\u001b[0m                                 Traceback (most recent call last)",
            "\u001b[0;32m<ipython-input-32-47ba99306212>\u001b[0m in \u001b[0;36m<module>\u001b[0;34m()\u001b[0m\n\u001b[0;32m----> 1\u001b[0;31m \u001b[0mj\u001b[0m\u001b[0;34m[\u001b[0m\u001b[0;34m'name'\u001b[0m\u001b[0;34m]\u001b[0m\u001b[0;34m\u001b[0m\u001b[0;34m\u001b[0m\u001b[0m\n\u001b[0m\u001b[1;32m      2\u001b[0m \u001b[0mj\u001b[0m\u001b[0;34m[\u001b[0m\u001b[0;34m'age'\u001b[0m\u001b[0;34m]\u001b[0m\u001b[0;34m\u001b[0m\u001b[0;34m\u001b[0m\u001b[0m\n\u001b[1;32m      3\u001b[0m \u001b[0mj\u001b[0m\u001b[0;34m[\u001b[0m\u001b[0;34m'email'\u001b[0m\u001b[0;34m]\u001b[0m\u001b[0;34m\u001b[0m\u001b[0;34m\u001b[0m\u001b[0m\n\u001b[1;32m      4\u001b[0m \u001b[0mprint\u001b[0m\u001b[0;34m(\u001b[0m\u001b[0mj\u001b[0m\u001b[0;34m)\u001b[0m\u001b[0;34m\u001b[0m\u001b[0;34m\u001b[0m\u001b[0m\n",
            "\u001b[0;31mNameError\u001b[0m: name 'j' is not defined"
          ]
        }
      ]
    },
    {
      "cell_type": "code",
      "source": [
        "if(True):\n",
        "  print(\"dekh rha hai binod kaise ..\")"
      ],
      "metadata": {
        "colab": {
          "base_uri": "https://localhost:8080/"
        },
        "id": "x80RwxIq97eF",
        "outputId": "a0d99549-d337-4468-8ba3-9b90cbb11d6d"
      },
      "execution_count": null,
      "outputs": [
        {
          "output_type": "stream",
          "name": "stdout",
          "text": [
            "dekh rha hai binod kaise ..\n"
          ]
        }
      ]
    },
    {
      "cell_type": "code",
      "source": [
        "name=input('enter name ')\n",
        "if(name=='kc'):\n",
        "  print(\"hi\")\n",
        "else:\n",
        "  print(\"sushmita\")"
      ],
      "metadata": {
        "colab": {
          "base_uri": "https://localhost:8080/"
        },
        "id": "Xatpo_Re-d38",
        "outputId": "fbeba918-69d5-476c-eee2-5730efca6e38"
      },
      "execution_count": null,
      "outputs": [
        {
          "output_type": "stream",
          "name": "stdout",
          "text": [
            "enter name kc\n",
            "hi\n"
          ]
        }
      ]
    },
    {
      "cell_type": "code",
      "source": [
        "# to check even or odd\n",
        "n=int(input('enter number '))\n",
        "\n",
        "if(n%2==0):\n",
        "  print(\"even\")\n",
        "else:\n",
        "  print(\"odd\")"
      ],
      "metadata": {
        "colab": {
          "base_uri": "https://localhost:8080/"
        },
        "id": "qTjN8HHV_as8",
        "outputId": "2d2a05df-2f12-4516-c440-6b8821e47b2c"
      },
      "execution_count": null,
      "outputs": [
        {
          "output_type": "stream",
          "name": "stdout",
          "text": [
            "enter number 69\n",
            "odd\n"
          ]
        }
      ]
    },
    {
      "cell_type": "code",
      "source": [
        "# Python program to find the largest number among the three input numbers\n",
        "\n",
        "num1 = float(input(\"Enter first number: \"))\n",
        "num2 = float(input(\"Enter second number: \"))\n",
        "num3 = float(input(\"Enter third number: \"))\n",
        "\n",
        "if (num1 >= num2) and (num1 >= num3):\n",
        "   largest = num1\n",
        "elif (num2 >= num1) and (num2 >= num3):\n",
        "   largest = num2\n",
        "else:\n",
        "   largest = num3\n",
        "\n",
        "print(\"The largest number is\", largest)"
      ],
      "metadata": {
        "colab": {
          "base_uri": "https://localhost:8080/"
        },
        "id": "5EY9qGbCA56s",
        "outputId": "7b0ccab2-5d2b-4a59-f3c2-9ab7acc22773"
      },
      "execution_count": null,
      "outputs": [
        {
          "output_type": "stream",
          "name": "stdout",
          "text": [
            "Enter first number: 5\n",
            "Enter second number: 9\n",
            "Enter third number: 6\n",
            "The largest number is 9.0\n"
          ]
        }
      ]
    },
    {
      "cell_type": "code",
      "source": [
        "a = int(input('Enter first number  : '))\n",
        "b = int(input('Enter second number : '))\n",
        "c = int(input('Enter third number  : '))\n",
        "\n",
        "largest = 0\n",
        "\n",
        "if a > b and a > c :\n",
        "    largest = a\n",
        "elif b > c :\n",
        "    largest = b\n",
        "else :\n",
        "    largest = c\n",
        "\n",
        "print(largest, \"is the largest of three numbers.\")"
      ],
      "metadata": {
        "colab": {
          "base_uri": "https://localhost:8080/"
        },
        "id": "5GN32t5MBbZc",
        "outputId": "693ccc50-9cc8-401d-baa0-1032840360bb"
      },
      "execution_count": null,
      "outputs": [
        {
          "output_type": "stream",
          "name": "stdout",
          "text": [
            "Enter first number  : 8\n",
            "Enter second number : 7\n",
            "Enter third number  : 32\n",
            "32 is the largest of three numbers.\n"
          ]
        }
      ]
    },
    {
      "cell_type": "code",
      "source": [
        "\n",
        "def factorial(n):\n",
        "\t\n",
        "\n",
        "\treturn 1 if (n==1 or n==0) else n * factorial(n - 1);\n",
        "\n",
        "\n",
        "num = 5;\n",
        "print(\"Factorial of\",num,\"is\",\n",
        "factorial(num))\n",
        "\n",
        "\n",
        "\n"
      ],
      "metadata": {
        "colab": {
          "base_uri": "https://localhost:8080/"
        },
        "id": "BLyAgt3KCnIM",
        "outputId": "388d9940-a739-4aa0-faf8-98efc6cd8bac"
      },
      "execution_count": null,
      "outputs": [
        {
          "output_type": "stream",
          "name": "stdout",
          "text": [
            "Factorial of 5 is 120\n"
          ]
        }
      ]
    },
    {
      "cell_type": "code",
      "source": [
        "for i in range(0,5):\n",
        "  print(\"bye\")\n",
        "\n",
        "print(\"time over\")"
      ],
      "metadata": {
        "colab": {
          "base_uri": "https://localhost:8080/"
        },
        "id": "Ao-eadhHFC9L",
        "outputId": "56a4308f-e3d4-4fb1-d7b1-c70a1dfb5e45"
      },
      "execution_count": null,
      "outputs": [
        {
          "output_type": "stream",
          "name": "stdout",
          "text": [
            "bye\n",
            "bye\n",
            "bye\n",
            "bye\n",
            "bye\n",
            "time over\n"
          ]
        }
      ]
    }
  ]
}