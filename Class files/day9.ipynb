{
  "nbformat": 4,
  "nbformat_minor": 0,
  "metadata": {
    "colab": {
      "name": "day9.ipynb",
      "provenance": [],
      "collapsed_sections": []
    },
    "kernelspec": {
      "name": "python3",
      "display_name": "Python 3"
    },
    "language_info": {
      "name": "python"
    }
  },
  "cells": [
    {
      "cell_type": "code",
      "execution_count": null,
      "metadata": {
        "id": "VihtoPKvnzmi"
      },
      "outputs": [],
      "source": [
        "from sklearn.datasets import load_iris\n",
        "import pandas as pd\n",
        "import numpy as np"
      ]
    },
    {
      "cell_type": "code",
      "source": [
        "iris=load_iris()\n",
        "#iris\n"
      ],
      "metadata": {
        "id": "yA1fU_y9n6jC"
      },
      "execution_count": null,
      "outputs": []
    },
    {
      "cell_type": "code",
      "source": [
        "iris['feature_names']"
      ],
      "metadata": {
        "colab": {
          "base_uri": "https://localhost:8080/"
        },
        "id": "iILOjN33oF9W",
        "outputId": "4c5eec90-d1c7-4b25-8f5e-459fd252c35c"
      },
      "execution_count": null,
      "outputs": [
        {
          "output_type": "execute_result",
          "data": {
            "text/plain": [
              "['sepal length (cm)',\n",
              " 'sepal width (cm)',\n",
              " 'petal length (cm)',\n",
              " 'petal width (cm)']"
            ]
          },
          "metadata": {},
          "execution_count": 106
        }
      ]
    },
    {
      "cell_type": "code",
      "source": [
        "X=pd.DataFrame(iris['data'],columns=iris['feature_names'])\n",
        "X"
      ],
      "metadata": {
        "colab": {
          "base_uri": "https://localhost:8080/",
          "height": 424
        },
        "id": "sHu2JAIwoKJT",
        "outputId": "184965fb-926c-418f-87ee-5cf1cba209e4"
      },
      "execution_count": null,
      "outputs": [
        {
          "output_type": "execute_result",
          "data": {
            "text/plain": [
              "     sepal length (cm)  sepal width (cm)  petal length (cm)  petal width (cm)\n",
              "0                  5.1               3.5                1.4               0.2\n",
              "1                  4.9               3.0                1.4               0.2\n",
              "2                  4.7               3.2                1.3               0.2\n",
              "3                  4.6               3.1                1.5               0.2\n",
              "4                  5.0               3.6                1.4               0.2\n",
              "..                 ...               ...                ...               ...\n",
              "145                6.7               3.0                5.2               2.3\n",
              "146                6.3               2.5                5.0               1.9\n",
              "147                6.5               3.0                5.2               2.0\n",
              "148                6.2               3.4                5.4               2.3\n",
              "149                5.9               3.0                5.1               1.8\n",
              "\n",
              "[150 rows x 4 columns]"
            ],
            "text/html": [
              "\n",
              "  <div id=\"df-4d23944a-575e-4981-954f-2c2bd0620208\">\n",
              "    <div class=\"colab-df-container\">\n",
              "      <div>\n",
              "<style scoped>\n",
              "    .dataframe tbody tr th:only-of-type {\n",
              "        vertical-align: middle;\n",
              "    }\n",
              "\n",
              "    .dataframe tbody tr th {\n",
              "        vertical-align: top;\n",
              "    }\n",
              "\n",
              "    .dataframe thead th {\n",
              "        text-align: right;\n",
              "    }\n",
              "</style>\n",
              "<table border=\"1\" class=\"dataframe\">\n",
              "  <thead>\n",
              "    <tr style=\"text-align: right;\">\n",
              "      <th></th>\n",
              "      <th>sepal length (cm)</th>\n",
              "      <th>sepal width (cm)</th>\n",
              "      <th>petal length (cm)</th>\n",
              "      <th>petal width (cm)</th>\n",
              "    </tr>\n",
              "  </thead>\n",
              "  <tbody>\n",
              "    <tr>\n",
              "      <th>0</th>\n",
              "      <td>5.1</td>\n",
              "      <td>3.5</td>\n",
              "      <td>1.4</td>\n",
              "      <td>0.2</td>\n",
              "    </tr>\n",
              "    <tr>\n",
              "      <th>1</th>\n",
              "      <td>4.9</td>\n",
              "      <td>3.0</td>\n",
              "      <td>1.4</td>\n",
              "      <td>0.2</td>\n",
              "    </tr>\n",
              "    <tr>\n",
              "      <th>2</th>\n",
              "      <td>4.7</td>\n",
              "      <td>3.2</td>\n",
              "      <td>1.3</td>\n",
              "      <td>0.2</td>\n",
              "    </tr>\n",
              "    <tr>\n",
              "      <th>3</th>\n",
              "      <td>4.6</td>\n",
              "      <td>3.1</td>\n",
              "      <td>1.5</td>\n",
              "      <td>0.2</td>\n",
              "    </tr>\n",
              "    <tr>\n",
              "      <th>4</th>\n",
              "      <td>5.0</td>\n",
              "      <td>3.6</td>\n",
              "      <td>1.4</td>\n",
              "      <td>0.2</td>\n",
              "    </tr>\n",
              "    <tr>\n",
              "      <th>...</th>\n",
              "      <td>...</td>\n",
              "      <td>...</td>\n",
              "      <td>...</td>\n",
              "      <td>...</td>\n",
              "    </tr>\n",
              "    <tr>\n",
              "      <th>145</th>\n",
              "      <td>6.7</td>\n",
              "      <td>3.0</td>\n",
              "      <td>5.2</td>\n",
              "      <td>2.3</td>\n",
              "    </tr>\n",
              "    <tr>\n",
              "      <th>146</th>\n",
              "      <td>6.3</td>\n",
              "      <td>2.5</td>\n",
              "      <td>5.0</td>\n",
              "      <td>1.9</td>\n",
              "    </tr>\n",
              "    <tr>\n",
              "      <th>147</th>\n",
              "      <td>6.5</td>\n",
              "      <td>3.0</td>\n",
              "      <td>5.2</td>\n",
              "      <td>2.0</td>\n",
              "    </tr>\n",
              "    <tr>\n",
              "      <th>148</th>\n",
              "      <td>6.2</td>\n",
              "      <td>3.4</td>\n",
              "      <td>5.4</td>\n",
              "      <td>2.3</td>\n",
              "    </tr>\n",
              "    <tr>\n",
              "      <th>149</th>\n",
              "      <td>5.9</td>\n",
              "      <td>3.0</td>\n",
              "      <td>5.1</td>\n",
              "      <td>1.8</td>\n",
              "    </tr>\n",
              "  </tbody>\n",
              "</table>\n",
              "<p>150 rows × 4 columns</p>\n",
              "</div>\n",
              "      <button class=\"colab-df-convert\" onclick=\"convertToInteractive('df-4d23944a-575e-4981-954f-2c2bd0620208')\"\n",
              "              title=\"Convert this dataframe to an interactive table.\"\n",
              "              style=\"display:none;\">\n",
              "        \n",
              "  <svg xmlns=\"http://www.w3.org/2000/svg\" height=\"24px\"viewBox=\"0 0 24 24\"\n",
              "       width=\"24px\">\n",
              "    <path d=\"M0 0h24v24H0V0z\" fill=\"none\"/>\n",
              "    <path d=\"M18.56 5.44l.94 2.06.94-2.06 2.06-.94-2.06-.94-.94-2.06-.94 2.06-2.06.94zm-11 1L8.5 8.5l.94-2.06 2.06-.94-2.06-.94L8.5 2.5l-.94 2.06-2.06.94zm10 10l.94 2.06.94-2.06 2.06-.94-2.06-.94-.94-2.06-.94 2.06-2.06.94z\"/><path d=\"M17.41 7.96l-1.37-1.37c-.4-.4-.92-.59-1.43-.59-.52 0-1.04.2-1.43.59L10.3 9.45l-7.72 7.72c-.78.78-.78 2.05 0 2.83L4 21.41c.39.39.9.59 1.41.59.51 0 1.02-.2 1.41-.59l7.78-7.78 2.81-2.81c.8-.78.8-2.07 0-2.86zM5.41 20L4 18.59l7.72-7.72 1.47 1.35L5.41 20z\"/>\n",
              "  </svg>\n",
              "      </button>\n",
              "      \n",
              "  <style>\n",
              "    .colab-df-container {\n",
              "      display:flex;\n",
              "      flex-wrap:wrap;\n",
              "      gap: 12px;\n",
              "    }\n",
              "\n",
              "    .colab-df-convert {\n",
              "      background-color: #E8F0FE;\n",
              "      border: none;\n",
              "      border-radius: 50%;\n",
              "      cursor: pointer;\n",
              "      display: none;\n",
              "      fill: #1967D2;\n",
              "      height: 32px;\n",
              "      padding: 0 0 0 0;\n",
              "      width: 32px;\n",
              "    }\n",
              "\n",
              "    .colab-df-convert:hover {\n",
              "      background-color: #E2EBFA;\n",
              "      box-shadow: 0px 1px 2px rgba(60, 64, 67, 0.3), 0px 1px 3px 1px rgba(60, 64, 67, 0.15);\n",
              "      fill: #174EA6;\n",
              "    }\n",
              "\n",
              "    [theme=dark] .colab-df-convert {\n",
              "      background-color: #3B4455;\n",
              "      fill: #D2E3FC;\n",
              "    }\n",
              "\n",
              "    [theme=dark] .colab-df-convert:hover {\n",
              "      background-color: #434B5C;\n",
              "      box-shadow: 0px 1px 3px 1px rgba(0, 0, 0, 0.15);\n",
              "      filter: drop-shadow(0px 1px 2px rgba(0, 0, 0, 0.3));\n",
              "      fill: #FFFFFF;\n",
              "    }\n",
              "  </style>\n",
              "\n",
              "      <script>\n",
              "        const buttonEl =\n",
              "          document.querySelector('#df-4d23944a-575e-4981-954f-2c2bd0620208 button.colab-df-convert');\n",
              "        buttonEl.style.display =\n",
              "          google.colab.kernel.accessAllowed ? 'block' : 'none';\n",
              "\n",
              "        async function convertToInteractive(key) {\n",
              "          const element = document.querySelector('#df-4d23944a-575e-4981-954f-2c2bd0620208');\n",
              "          const dataTable =\n",
              "            await google.colab.kernel.invokeFunction('convertToInteractive',\n",
              "                                                     [key], {});\n",
              "          if (!dataTable) return;\n",
              "\n",
              "          const docLinkHtml = 'Like what you see? Visit the ' +\n",
              "            '<a target=\"_blank\" href=https://colab.research.google.com/notebooks/data_table.ipynb>data table notebook</a>'\n",
              "            + ' to learn more about interactive tables.';\n",
              "          element.innerHTML = '';\n",
              "          dataTable['output_type'] = 'display_data';\n",
              "          await google.colab.output.renderOutput(dataTable, element);\n",
              "          const docLink = document.createElement('div');\n",
              "          docLink.innerHTML = docLinkHtml;\n",
              "          element.appendChild(docLink);\n",
              "        }\n",
              "      </script>\n",
              "    </div>\n",
              "  </div>\n",
              "  "
            ]
          },
          "metadata": {},
          "execution_count": 107
        }
      ]
    },
    {
      "cell_type": "code",
      "source": [
        "#Y=pd.DataFrame(iris['target'])\n",
        "#Y\n",
        "Y=iris['target']\n",
        "Y"
      ],
      "metadata": {
        "colab": {
          "base_uri": "https://localhost:8080/"
        },
        "id": "DBAHAzZboSLS",
        "outputId": "8e651cac-efed-4540-ee1f-1afcae7e9d4d"
      },
      "execution_count": null,
      "outputs": [
        {
          "output_type": "execute_result",
          "data": {
            "text/plain": [
              "array([0, 0, 0, 0, 0, 0, 0, 0, 0, 0, 0, 0, 0, 0, 0, 0, 0, 0, 0, 0, 0, 0,\n",
              "       0, 0, 0, 0, 0, 0, 0, 0, 0, 0, 0, 0, 0, 0, 0, 0, 0, 0, 0, 0, 0, 0,\n",
              "       0, 0, 0, 0, 0, 0, 1, 1, 1, 1, 1, 1, 1, 1, 1, 1, 1, 1, 1, 1, 1, 1,\n",
              "       1, 1, 1, 1, 1, 1, 1, 1, 1, 1, 1, 1, 1, 1, 1, 1, 1, 1, 1, 1, 1, 1,\n",
              "       1, 1, 1, 1, 1, 1, 1, 1, 1, 1, 1, 1, 2, 2, 2, 2, 2, 2, 2, 2, 2, 2,\n",
              "       2, 2, 2, 2, 2, 2, 2, 2, 2, 2, 2, 2, 2, 2, 2, 2, 2, 2, 2, 2, 2, 2,\n",
              "       2, 2, 2, 2, 2, 2, 2, 2, 2, 2, 2, 2, 2, 2, 2, 2, 2, 2])"
            ]
          },
          "metadata": {},
          "execution_count": 108
        }
      ]
    },
    {
      "cell_type": "code",
      "source": [
        "iris['target_names']"
      ],
      "metadata": {
        "colab": {
          "base_uri": "https://localhost:8080/"
        },
        "id": "IJ1CPxwyo9EJ",
        "outputId": "c6a3c3dc-bd2e-4fb7-8b51-ddb5e550b09e"
      },
      "execution_count": null,
      "outputs": [
        {
          "output_type": "execute_result",
          "data": {
            "text/plain": [
              "array(['setosa', 'versicolor', 'virginica'], dtype='<U10')"
            ]
          },
          "metadata": {},
          "execution_count": 109
        }
      ]
    },
    {
      "cell_type": "code",
      "source": [
        "#Sepal length=2.1, Sepal Width=3.2, Petal length=1.4, Petal width=1.5?"
      ],
      "metadata": {
        "id": "QObtUR2ZpCal"
      },
      "execution_count": null,
      "outputs": []
    },
    {
      "cell_type": "markdown",
      "source": [
        "**Divide the data into training and validation sets**"
      ],
      "metadata": {
        "id": "KCYqkkePpHLa"
      }
    },
    {
      "cell_type": "code",
      "source": [
        "from sklearn.model_selection import train_test_split\n",
        "Xtrain,Xtest,Ytrain,Ytest=train_test_split(X,Y,test_size=.4,random_state=3)"
      ],
      "metadata": {
        "id": "_lQlMTczpG_W"
      },
      "execution_count": null,
      "outputs": []
    },
    {
      "cell_type": "code",
      "source": [
        "print(X.shape)\n",
        "print(Y.shape)\n",
        "print(Xtrain.shape)\n",
        "print(Xtest.shape)\n",
        "print(Ytrain.shape)\n",
        "print(Ytest.shape)"
      ],
      "metadata": {
        "colab": {
          "base_uri": "https://localhost:8080/"
        },
        "id": "RFgVoxocpG5C",
        "outputId": "fcba4d12-9e23-41e0-c76a-cf50ebdb56e6"
      },
      "execution_count": null,
      "outputs": [
        {
          "output_type": "stream",
          "name": "stdout",
          "text": [
            "(150, 4)\n",
            "(150,)\n",
            "(105, 4)\n",
            "(45, 4)\n",
            "(105,)\n",
            "(45,)\n"
          ]
        }
      ]
    },
    {
      "cell_type": "code",
      "source": [
        "#print(Ytrain[0].value_counts())\n",
        "#print(Ytest[0].value_counts())"
      ],
      "metadata": {
        "id": "lKCpMw23TK42"
      },
      "execution_count": null,
      "outputs": []
    },
    {
      "cell_type": "markdown",
      "source": [
        "**Train your Model**"
      ],
      "metadata": {
        "id": "vUOaiknYpVsz"
      }
    },
    {
      "cell_type": "code",
      "source": [
        "from sklearn.neighbors import KNeighborsClassifier\n",
        "kmodel=KNeighborsClassifier(n_neighbors=3)\n",
        "kmodel.fit(X,Y)\n",
        "kmodel.fit(Xtrain,Ytrain)"
      ],
      "metadata": {
        "id": "ceCn20oHpYs3",
        "colab": {
          "base_uri": "https://localhost:8080/"
        },
        "outputId": "0fde3c21-1ae4-4373-89d7-eb0cfd441732"
      },
      "execution_count": null,
      "outputs": [
        {
          "output_type": "execute_result",
          "data": {
            "text/plain": [
              "KNeighborsClassifier(n_neighbors=3)"
            ]
          },
          "metadata": {},
          "execution_count": 141
        }
      ]
    },
    {
      "cell_type": "markdown",
      "source": [
        "**Evaluate the trained model on training data**"
      ],
      "metadata": {
        "id": "pisklSl2pfDx"
      }
    },
    {
      "cell_type": "code",
      "source": [
        "Yp=kmodel.predict(X)\n",
        "Yp\n",
        "Ytrain_p=kmodel.predict(Xtrain)\n",
        "#kmodel.score(Xtrain,Ytrain)"
      ],
      "metadata": {
        "id": "NTpZyWYYphlQ"
      },
      "execution_count": null,
      "outputs": []
    },
    {
      "cell_type": "code",
      "source": [
        "(Yp==Y).sum()/len(X)\n",
        "(Ytrain_p==Ytrain).sum()/len(Xtrain)"
      ],
      "metadata": {
        "id": "S_RfrJ1upoND",
        "colab": {
          "base_uri": "https://localhost:8080/"
        },
        "outputId": "c4f06222-4702-4401-f52d-4db15b962b98"
      },
      "execution_count": null,
      "outputs": [
        {
          "output_type": "execute_result",
          "data": {
            "text/plain": [
              "0.9809523809523809"
            ]
          },
          "metadata": {},
          "execution_count": 143
        }
      ]
    },
    {
      "cell_type": "markdown",
      "source": [
        "**Evaluate the model performance on unknown data or validation data**"
      ],
      "metadata": {
        "id": "3FqYjL-Zp-UT"
      }
    },
    {
      "cell_type": "code",
      "source": [
        "Ytest_p=kmodel.predict(Xtest)\n",
        "#kmodel.score(Xtest,Ytest)"
      ],
      "metadata": {
        "id": "EKOiOW4xp_g4"
      },
      "execution_count": null,
      "outputs": []
    },
    {
      "cell_type": "code",
      "source": [
        "(Ytest_p==Ytest).sum()/len(Xtest)"
      ],
      "metadata": {
        "id": "JGMLoU5eqDjC",
        "colab": {
          "base_uri": "https://localhost:8080/"
        },
        "outputId": "ccd0423e-3c0a-4173-bf81-4f849786dfe7"
      },
      "execution_count": null,
      "outputs": [
        {
          "output_type": "execute_result",
          "data": {
            "text/plain": [
              "0.9777777777777777"
            ]
          },
          "metadata": {},
          "execution_count": 126
        }
      ]
    },
    {
      "cell_type": "markdown",
      "source": [
        "**Make Predictions**"
      ],
      "metadata": {
        "id": "PWAXwGMMqJRL"
      }
    },
    {
      "cell_type": "code",
      "source": [
        "#iris['target_names']\n",
        "#iris"
      ],
      "metadata": {
        "id": "ecxIY7zINAIx"
      },
      "execution_count": null,
      "outputs": []
    },
    {
      "cell_type": "code",
      "source": [
        "iris['target_names']"
      ],
      "metadata": {
        "colab": {
          "base_uri": "https://localhost:8080/"
        },
        "id": "PVZVXt59Rkhm",
        "outputId": "eea47298-c5d4-4a94-f435-ec185c99b3b0"
      },
      "execution_count": null,
      "outputs": [
        {
          "output_type": "execute_result",
          "data": {
            "text/plain": [
              "array(['setosa', 'versicolor', 'virginica'], dtype='<U10')"
            ]
          },
          "metadata": {},
          "execution_count": 147
        }
      ]
    },
    {
      "cell_type": "code",
      "source": [
        "\n",
        "import numpy as np\n",
        "name=np.array(['sentosa','vericolor','virginica'])\n"
      ],
      "metadata": {
        "id": "7TjIYXfGqJyS"
      },
      "execution_count": null,
      "outputs": []
    },
    {
      "cell_type": "code",
      "source": [
        "print(name[kmodel.predict([[3.2,4.2,4.4,3.5]])])"
      ],
      "metadata": {
        "colab": {
          "base_uri": "https://localhost:8080/"
        },
        "id": "nzFQwJEe9HAi",
        "outputId": "6ea82ae2-c8c1-4874-fcd7-f21a3a322bab"
      },
      "execution_count": null,
      "outputs": [
        {
          "output_type": "stream",
          "name": "stdout",
          "text": [
            "['virginica']\n"
          ]
        },
        {
          "output_type": "stream",
          "name": "stderr",
          "text": [
            "/usr/local/lib/python3.7/dist-packages/sklearn/base.py:451: UserWarning: X does not have valid feature names, but KNeighborsClassifier was fitted with feature names\n",
            "  \"X does not have valid feature names, but\"\n"
          ]
        }
      ]
    },
    {
      "cell_type": "markdown",
      "source": [
        "**Tune parameters**"
      ],
      "metadata": {
        "id": "oEbkkJokqPIB"
      }
    },
    {
      "cell_type": "code",
      "source": [
        "ts_acc=[]\n",
        "tr_acc=[]\n",
        "for i in range(1,15):\n",
        "  km=KNeighborsClassifier(n_neighbors=i)\n",
        "\n",
        "  km.fit(Xtrain,Ytrain)\n",
        "  Yp_train=km.predict(Xtrain)\n",
        "  atr=(Yp_train==Ytrain).sum()/len(Xtrain)\n",
        "  print('training accuracy for neighbour=',i)\n",
        "  print(atr)\n",
        "  tr_acc.append(atr)\n",
        "  Yp_test=km.predict(Xtest)\n",
        "  ats=(Yp_test==Ytest).sum()/len(Xtest)\n",
        "  print('testing accuracy for neighbour=',i)\n",
        "  print(ats)\n",
        "  ts_acc.append(ats)\n",
        "  \n",
        "  #atrain=kmodel.score(Xtrain,Ytrain)\n",
        "  #atest=kmodel.score(Xtest,Ytest)\n"
      ],
      "metadata": {
        "colab": {
          "base_uri": "https://localhost:8080/"
        },
        "id": "ziaG1kgEqPsK",
        "outputId": "807b3ba0-95bf-4fbf-d79e-967a8f82688e"
      },
      "execution_count": null,
      "outputs": [
        {
          "output_type": "stream",
          "name": "stdout",
          "text": [
            "training accuracy for neighbour= 1\n",
            "1.0\n",
            "testing accuracy for neighbour= 1\n",
            "0.9666666666666667\n",
            "training accuracy for neighbour= 2\n",
            "0.9777777777777777\n",
            "testing accuracy for neighbour= 2\n",
            "0.9666666666666667\n",
            "training accuracy for neighbour= 3\n",
            "0.9777777777777777\n",
            "testing accuracy for neighbour= 3\n",
            "0.95\n",
            "training accuracy for neighbour= 4\n",
            "0.9888888888888889\n",
            "testing accuracy for neighbour= 4\n",
            "0.95\n",
            "training accuracy for neighbour= 5\n",
            "0.9888888888888889\n",
            "testing accuracy for neighbour= 5\n",
            "0.9333333333333333\n",
            "training accuracy for neighbour= 6\n",
            "0.9777777777777777\n",
            "testing accuracy for neighbour= 6\n",
            "0.95\n",
            "training accuracy for neighbour= 7\n",
            "0.9777777777777777\n",
            "testing accuracy for neighbour= 7\n",
            "0.95\n",
            "training accuracy for neighbour= 8\n",
            "0.9666666666666667\n",
            "testing accuracy for neighbour= 8\n",
            "0.95\n",
            "training accuracy for neighbour= 9\n",
            "0.9777777777777777\n",
            "testing accuracy for neighbour= 9\n",
            "0.95\n",
            "training accuracy for neighbour= 10\n",
            "0.9777777777777777\n",
            "testing accuracy for neighbour= 10\n",
            "0.9333333333333333\n",
            "training accuracy for neighbour= 11\n",
            "0.9777777777777777\n",
            "testing accuracy for neighbour= 11\n",
            "0.9333333333333333\n",
            "training accuracy for neighbour= 12\n",
            "0.9666666666666667\n",
            "testing accuracy for neighbour= 12\n",
            "0.95\n",
            "training accuracy for neighbour= 13\n",
            "0.9777777777777777\n",
            "testing accuracy for neighbour= 13\n",
            "0.9666666666666667\n",
            "training accuracy for neighbour= 14\n",
            "0.9666666666666667\n",
            "testing accuracy for neighbour= 14\n",
            "0.9666666666666667\n"
          ]
        }
      ]
    },
    {
      "cell_type": "code",
      "source": [
        "import matplotlib.pyplot as plt\n",
        "plt.plot(range(1,15),tr_acc)\n",
        "plt.plot(range(1,15),ts_acc,color='red')\n",
        "plt.show()"
      ],
      "metadata": {
        "colab": {
          "base_uri": "https://localhost:8080/",
          "height": 265
        },
        "id": "AWM5_WHJqY-X",
        "outputId": "ba079833-6ced-47c5-a8eb-111eff35da63"
      },
      "execution_count": null,
      "outputs": [
        {
          "output_type": "display_data",
          "data": {
            "text/plain": [
              "<Figure size 432x288 with 1 Axes>"
            ],
            "image/png": "[encoded data removed]"
          },
          "metadata": {
            "needs_background": "light"
          }
        }
      ]
    },
    {
      "cell_type": "markdown",
      "source": [
        "**Decision Tree**\n",
        "**GINI Index**\n",
        "(Pp(1-Pp)"
      ],
      "metadata": {
        "id": "RilAb6bUZjLw"
      }
    },
    {
      "cell_type": "code",
      "source": [
        "from sklearn.tree import DecisionTreeClassifier"
      ],
      "metadata": {
        "id": "FZj5pa_wZw1K"
      },
      "execution_count": null,
      "outputs": []
    },
    {
      "cell_type": "code",
      "source": [
        "dmodel=DecisionTreeClassifier()"
      ],
      "metadata": {
        "id": "XXGGX8_9aAHX"
      },
      "execution_count": null,
      "outputs": []
    },
    {
      "cell_type": "code",
      "source": [
        "dmodel.fit(Xtrain,Ytrain)"
      ],
      "metadata": {
        "colab": {
          "base_uri": "https://localhost:8080/"
        },
        "id": "IC7LQFrpaGpA",
        "outputId": "bedf7bc4-316b-4dd2-94d6-62db8c090ea4"
      },
      "execution_count": null,
      "outputs": [
        {
          "output_type": "execute_result",
          "data": {
            "text/plain": [
              "DecisionTreeClassifier()"
            ]
          },
          "metadata": {},
          "execution_count": 185
        }
      ]
    },
    {
      "cell_type": "code",
      "source": [
        "dmodel.score(Xtrain,Ytrain)"
      ],
      "metadata": {
        "colab": {
          "base_uri": "https://localhost:8080/"
        },
        "id": "tRoKn0uJaXQ-",
        "outputId": "3f6c0897-d3ac-42cd-8628-7544da98196f"
      },
      "execution_count": null,
      "outputs": [
        {
          "output_type": "execute_result",
          "data": {
            "text/plain": [
              "1.0"
            ]
          },
          "metadata": {},
          "execution_count": 186
        }
      ]
    },
    {
      "cell_type": "code",
      "source": [
        "dmodel.score(Xtest,Ytest)"
      ],
      "metadata": {
        "colab": {
          "base_uri": "https://localhost:8080/"
        },
        "id": "OSz4xCuvacPm",
        "outputId": "89979504-8af0-4c50-fc0b-463e459ecc74"
      },
      "execution_count": null,
      "outputs": [
        {
          "output_type": "execute_result",
          "data": {
            "text/plain": [
              "0.95"
            ]
          },
          "metadata": {},
          "execution_count": 187
        }
      ]
    },
    {
      "cell_type": "code",
      "source": [
        "from sklearn import tree\n",
        "dot_data=tree.export_graphviz(dmodel,out_file=None,feature_names=Xtrain.columns)\n",
        "\n",
        "from IPython.display import Image\n",
        "import pydotplus\n",
        "graph=pydotplus.graph_from_dot_data(dot_data)\n",
        "Image(graph.create_png())\n"
      ],
      "metadata": {
        "colab": {
          "base_uri": "https://localhost:8080/",
          "height": 653
        },
        "id": "InFRXabkiUZH",
        "outputId": "499c66fb-bfb4-415e-b1a0-2f85e9137137"
      },
      "execution_count": null,
      "outputs": [
        {
          "output_type": "execute_result",
          "data": {
            "text/plain": [
              "<IPython.core.display.Image object>"
            ],
            "image/png": "[encoded data removed]"
          },
          "metadata": {},
          "execution_count": 193
        }
      ]
    },
    {
      "cell_type": "markdown",
      "source": [
        "**Support Vector Machine**"
      ],
      "metadata": {
        "id": "APxidSMteoSa"
      }
    },
    {
      "cell_type": "code",
      "source": [
        "#import pandas as pd\n",
        "#from sklearn.datasets import load_iris\n",
        "#iris = load_iris()"
      ],
      "metadata": {
        "id": "pEIQZbLEjRfb"
      },
      "execution_count": null,
      "outputs": []
    },
    {
      "cell_type": "code",
      "source": [
        "#iris.feature_names"
      ],
      "metadata": {
        "id": "gngncQnSjVFc"
      },
      "execution_count": null,
      "outputs": []
    },
    {
      "cell_type": "code",
      "source": [
        "#iris.target_names"
      ],
      "metadata": {
        "id": "r7-m_VnijYA9"
      },
      "execution_count": null,
      "outputs": []
    },
    {
      "cell_type": "code",
      "source": [
        "#df = pd.DataFrame(iris.data,columns=iris.feature_names)\n",
        "#df.head()"
      ],
      "metadata": {
        "id": "X9lwoaSHjY3G"
      },
      "execution_count": null,
      "outputs": []
    },
    {
      "cell_type": "code",
      "source": [
        "#df['target'] = iris.target\n",
        "#df.head()\n"
      ],
      "metadata": {
        "id": "bUgx4ACIjgWB"
      },
      "execution_count": null,
      "outputs": []
    },
    {
      "cell_type": "code",
      "source": [
        "#df[df.target==1].head()"
      ],
      "metadata": {
        "id": "mTFcFMWFjjS3"
      },
      "execution_count": null,
      "outputs": []
    },
    {
      "cell_type": "code",
      "source": [
        "#df[df.target==2].head()"
      ],
      "metadata": {
        "id": "bLZCFHIWjmAj"
      },
      "execution_count": null,
      "outputs": []
    },
    {
      "cell_type": "code",
      "source": [
        "#df['flower_name'] =df.target.apply(lambda x: iris.target_names[x])\n",
        "#df.head()"
      ],
      "metadata": {
        "id": "GfyDosDsjrGS"
      },
      "execution_count": null,
      "outputs": []
    },
    {
      "cell_type": "code",
      "source": [
        "#df[45:55]"
      ],
      "metadata": {
        "id": "E4H2PzVljy7J"
      },
      "execution_count": null,
      "outputs": []
    },
    {
      "cell_type": "code",
      "source": [
        "#df0 = df[:50]\n",
        "#df1 = df[50:100]\n",
        "#df2 = df[100:]"
      ],
      "metadata": {
        "id": "ag-E8H1Dj2KP"
      },
      "execution_count": null,
      "outputs": []
    },
    {
      "cell_type": "code",
      "source": [
        ""
      ],
      "metadata": {
        "id": "b-Em7oCVj6He"
      },
      "execution_count": null,
      "outputs": []
    },
    {
      "cell_type": "code",
      "source": [
        "import matplotlib.pyplot as plt"
      ],
      "metadata": {
        "id": "kmR5l0ndesBG"
      },
      "execution_count": null,
      "outputs": []
    },
    {
      "cell_type": "markdown",
      "source": [
        "**Sepal length vs Sepal Width (Setosa vs Versicolor)**"
      ],
      "metadata": {
        "id": "mE9kOfj5jFyw"
      }
    },
    {
      "cell_type": "code",
      "source": [
        "#plt.xlabel('Sepal Length')\n",
        "#plt.ylabel('Sepal Width')\n",
        "#plt.scatter(df0['sepal length (cm)'], df0['sepal width (cm)'],color=\"green\",marker='+')\n",
        "#plt.scatter(df1['sepal length (cm)'], df1['sepal width (cm)'],color=\"blue\",marker='.')"
      ],
      "metadata": {
        "id": "pp9sCQF5jAul"
      },
      "execution_count": null,
      "outputs": []
    },
    {
      "cell_type": "markdown",
      "source": [
        "**Petal length vs Pepal Width (Setosa vs Versicolor)**"
      ],
      "metadata": {
        "id": "8STd-NSgkAEN"
      }
    },
    {
      "cell_type": "code",
      "source": [
        "#plt.xlabel('Petal Length')\n",
        "#plt.ylabel('Petal Width')\n",
        "#plt.scatter(df0['petal length (cm)'], df0['petal width (cm)'],color=\"green\",marker='+')\n",
        "#plt.scatter(df1['petal length (cm)'], df1['petal width (cm)'],color=\"blue\",marker='.')"
      ],
      "metadata": {
        "id": "8DZuxvQIkCOy"
      },
      "execution_count": null,
      "outputs": []
    },
    {
      "cell_type": "code",
      "source": [
        "#from sklearn.model_selection import train_test_split\n",
        "#X = df.drop(['target','flower_name'], axis='columns')\n",
        "#y = df.target\n",
        "#X_train, X_test, y_train, y_test = train_test_split(X, y, test_size=0.2)\n",
        "#len(X_train)"
      ],
      "metadata": {
        "id": "v-sbid8JkFey"
      },
      "execution_count": null,
      "outputs": []
    },
    {
      "cell_type": "code",
      "source": [
        "#len(X_test)"
      ],
      "metadata": {
        "id": "9EgGoPI9kMrD"
      },
      "execution_count": null,
      "outputs": []
    },
    {
      "cell_type": "code",
      "source": [
        "from sklearn.svm import SVC\n",
        "model = SVC()"
      ],
      "metadata": {
        "id": "5R8lNTOEkPTM"
      },
      "execution_count": null,
      "outputs": []
    },
    {
      "cell_type": "code",
      "source": [
        "model.fit(X_train, y_train)"
      ],
      "metadata": {
        "id": "BQjd0shRkSpA"
      },
      "execution_count": null,
      "outputs": []
    },
    {
      "cell_type": "code",
      "source": [
        "model.score(X_test, y_test)"
      ],
      "metadata": {
        "id": "LuyM3WDRkYDH"
      },
      "execution_count": null,
      "outputs": []
    },
    {
      "cell_type": "code",
      "source": [
        "model.predict([[4.8,3.0,1.5,0.3]])"
      ],
      "metadata": {
        "id": "UB0p6riEkYvc"
      },
      "execution_count": null,
      "outputs": []
    },
    {
      "cell_type": "markdown",
      "source": [
        "**Tune parameters**\n",
        "\n",
        "1. Regularization (C)"
      ],
      "metadata": {
        "id": "xBna8vW1kh01"
      }
    },
    {
      "cell_type": "code",
      "source": [
        "model_C = SVC(C=1)\n",
        "model_C.fit(X_train, y_train)\n",
        "model_c.score(x_train,y_train)\n",
        "model_C.score(X_test, y_test)"
      ],
      "metadata": {
        "id": "cqF0Mv6Ckbug"
      },
      "execution_count": null,
      "outputs": []
    },
    {
      "cell_type": "code",
      "source": [
        "model_C = SVC(C=10)\n",
        "model_C.fit(X_train, y_train)\n",
        "model_C.score(X_test, y_test)"
      ],
      "metadata": {
        "id": "CZqpJrpUkosk"
      },
      "execution_count": null,
      "outputs": []
    },
    {
      "cell_type": "markdown",
      "source": [
        "**2. Gamma**"
      ],
      "metadata": {
        "id": "TPRGi1j7ktGM"
      }
    },
    {
      "cell_type": "code",
      "source": [
        "model_g = SVC(gamma=10)\n",
        "model_g.fit(X_train, y_train)\n",
        "model_g.score(X_test, y_test)"
      ],
      "metadata": {
        "id": "ZvLH-9SGkvWP"
      },
      "execution_count": null,
      "outputs": []
    },
    {
      "cell_type": "markdown",
      "source": [
        "**3. Kernel**"
      ],
      "metadata": {
        "id": "2c8-4hwmk2Ok"
      }
    },
    {
      "cell_type": "code",
      "source": [
        "model_linear_kernal = SVC(kernel='linear')\n",
        "model_linear_kernal.fit(X_train, y_train)"
      ],
      "metadata": {
        "id": "ITZi6XVkkzFi"
      },
      "execution_count": null,
      "outputs": []
    },
    {
      "cell_type": "code",
      "source": [
        "model_linear_kernal.score(X_test, y_test)"
      ],
      "metadata": {
        "id": "gqGrtBSfk9hU"
      },
      "execution_count": null,
      "outputs": []
    }
  ]
}